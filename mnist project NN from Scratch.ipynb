{
  "cells": [
    {
      "cell_type": "markdown",
      "metadata": {
        "id": "view-in-github",
        "colab_type": "text"
      },
      "source": [
        "<a href=\"https://colab.research.google.com/github/nishantruwari/projects/blob/main/mnist%20project%20NN%20from%20Scratch.ipynb\" target=\"_parent\"><img src=\"https://colab.research.google.com/assets/colab-badge.svg\" alt=\"Open In Colab\"/></a>"
      ]
    },
    {
      "cell_type": "code",
      "execution_count": null,
      "metadata": {
        "id": "1zCfSoN4GISs"
      },
      "outputs": [],
      "source": [
        "import numpy as np\n",
        "import pandas as pd\n",
        "from matplotlib import pyplot as plt"
      ]
    },
    {
      "cell_type": "code",
      "execution_count": null,
      "metadata": {
        "id": "z2JR4WL2Gd5C"
      },
      "outputs": [],
      "source": [
        "# data = pd.read_csv('/content/mnist_train.csv')"
      ]
    },
    {
      "cell_type": "code",
      "source": [
        "\n",
        "train_data = pd.read_csv('/content/mnist_train.csv')  # Use pd.read_csv to create a DataFrame\n",
        "test_data = pd.read_csv('/content/mnist_test.csv')    # Use pd.read_csv to create a DataFrame\n",
        "\n"
      ],
      "metadata": {
        "id": "_yUTWUMqn5G4"
      },
      "execution_count": null,
      "outputs": []
    },
    {
      "cell_type": "code",
      "execution_count": null,
      "metadata": {
        "colab": {
          "base_uri": "https://localhost:8080/",
          "height": 236
        },
        "id": "qM8JQRTIGjcG",
        "outputId": "2fc4721b-74bc-46f5-b6db-ffe9ffad98b5"
      },
      "outputs": [
        {
          "output_type": "execute_result",
          "data": {
            "text/plain": [
              "   label  0  1  2  3  4  5  6  7  8  ...  774  775  776  777  778  779  780  \\\n",
              "0      7  0  0  0  0  0  0  0  0  0  ...    0    0    0    0    0    0    0   \n",
              "1      2  0  0  0  0  0  0  0  0  0  ...    0    0    0    0    0    0    0   \n",
              "2      1  0  0  0  0  0  0  0  0  0  ...    0    0    0    0    0    0    0   \n",
              "3      0  0  0  0  0  0  0  0  0  0  ...    0    0    0    0    0    0    0   \n",
              "4      4  0  0  0  0  0  0  0  0  0  ...    0    0    0    0    0    0    0   \n",
              "\n",
              "   781  782  783  \n",
              "0    0    0    0  \n",
              "1    0    0    0  \n",
              "2    0    0    0  \n",
              "3    0    0    0  \n",
              "4    0    0    0  \n",
              "\n",
              "[5 rows x 785 columns]"
            ],
            "text/html": [
              "\n",
              "  <div id=\"df-a7ee4618-462e-445b-bb43-cf83e7d1daab\" class=\"colab-df-container\">\n",
              "    <div>\n",
              "<style scoped>\n",
              "    .dataframe tbody tr th:only-of-type {\n",
              "        vertical-align: middle;\n",
              "    }\n",
              "\n",
              "    .dataframe tbody tr th {\n",
              "        vertical-align: top;\n",
              "    }\n",
              "\n",
              "    .dataframe thead th {\n",
              "        text-align: right;\n",
              "    }\n",
              "</style>\n",
              "<table border=\"1\" class=\"dataframe\">\n",
              "  <thead>\n",
              "    <tr style=\"text-align: right;\">\n",
              "      <th></th>\n",
              "      <th>label</th>\n",
              "      <th>0</th>\n",
              "      <th>1</th>\n",
              "      <th>2</th>\n",
              "      <th>3</th>\n",
              "      <th>4</th>\n",
              "      <th>5</th>\n",
              "      <th>6</th>\n",
              "      <th>7</th>\n",
              "      <th>8</th>\n",
              "      <th>...</th>\n",
              "      <th>774</th>\n",
              "      <th>775</th>\n",
              "      <th>776</th>\n",
              "      <th>777</th>\n",
              "      <th>778</th>\n",
              "      <th>779</th>\n",
              "      <th>780</th>\n",
              "      <th>781</th>\n",
              "      <th>782</th>\n",
              "      <th>783</th>\n",
              "    </tr>\n",
              "  </thead>\n",
              "  <tbody>\n",
              "    <tr>\n",
              "      <th>0</th>\n",
              "      <td>7</td>\n",
              "      <td>0</td>\n",
              "      <td>0</td>\n",
              "      <td>0</td>\n",
              "      <td>0</td>\n",
              "      <td>0</td>\n",
              "      <td>0</td>\n",
              "      <td>0</td>\n",
              "      <td>0</td>\n",
              "      <td>0</td>\n",
              "      <td>...</td>\n",
              "      <td>0</td>\n",
              "      <td>0</td>\n",
              "      <td>0</td>\n",
              "      <td>0</td>\n",
              "      <td>0</td>\n",
              "      <td>0</td>\n",
              "      <td>0</td>\n",
              "      <td>0</td>\n",
              "      <td>0</td>\n",
              "      <td>0</td>\n",
              "    </tr>\n",
              "    <tr>\n",
              "      <th>1</th>\n",
              "      <td>2</td>\n",
              "      <td>0</td>\n",
              "      <td>0</td>\n",
              "      <td>0</td>\n",
              "      <td>0</td>\n",
              "      <td>0</td>\n",
              "      <td>0</td>\n",
              "      <td>0</td>\n",
              "      <td>0</td>\n",
              "      <td>0</td>\n",
              "      <td>...</td>\n",
              "      <td>0</td>\n",
              "      <td>0</td>\n",
              "      <td>0</td>\n",
              "      <td>0</td>\n",
              "      <td>0</td>\n",
              "      <td>0</td>\n",
              "      <td>0</td>\n",
              "      <td>0</td>\n",
              "      <td>0</td>\n",
              "      <td>0</td>\n",
              "    </tr>\n",
              "    <tr>\n",
              "      <th>2</th>\n",
              "      <td>1</td>\n",
              "      <td>0</td>\n",
              "      <td>0</td>\n",
              "      <td>0</td>\n",
              "      <td>0</td>\n",
              "      <td>0</td>\n",
              "      <td>0</td>\n",
              "      <td>0</td>\n",
              "      <td>0</td>\n",
              "      <td>0</td>\n",
              "      <td>...</td>\n",
              "      <td>0</td>\n",
              "      <td>0</td>\n",
              "      <td>0</td>\n",
              "      <td>0</td>\n",
              "      <td>0</td>\n",
              "      <td>0</td>\n",
              "      <td>0</td>\n",
              "      <td>0</td>\n",
              "      <td>0</td>\n",
              "      <td>0</td>\n",
              "    </tr>\n",
              "    <tr>\n",
              "      <th>3</th>\n",
              "      <td>0</td>\n",
              "      <td>0</td>\n",
              "      <td>0</td>\n",
              "      <td>0</td>\n",
              "      <td>0</td>\n",
              "      <td>0</td>\n",
              "      <td>0</td>\n",
              "      <td>0</td>\n",
              "      <td>0</td>\n",
              "      <td>0</td>\n",
              "      <td>...</td>\n",
              "      <td>0</td>\n",
              "      <td>0</td>\n",
              "      <td>0</td>\n",
              "      <td>0</td>\n",
              "      <td>0</td>\n",
              "      <td>0</td>\n",
              "      <td>0</td>\n",
              "      <td>0</td>\n",
              "      <td>0</td>\n",
              "      <td>0</td>\n",
              "    </tr>\n",
              "    <tr>\n",
              "      <th>4</th>\n",
              "      <td>4</td>\n",
              "      <td>0</td>\n",
              "      <td>0</td>\n",
              "      <td>0</td>\n",
              "      <td>0</td>\n",
              "      <td>0</td>\n",
              "      <td>0</td>\n",
              "      <td>0</td>\n",
              "      <td>0</td>\n",
              "      <td>0</td>\n",
              "      <td>...</td>\n",
              "      <td>0</td>\n",
              "      <td>0</td>\n",
              "      <td>0</td>\n",
              "      <td>0</td>\n",
              "      <td>0</td>\n",
              "      <td>0</td>\n",
              "      <td>0</td>\n",
              "      <td>0</td>\n",
              "      <td>0</td>\n",
              "      <td>0</td>\n",
              "    </tr>\n",
              "  </tbody>\n",
              "</table>\n",
              "<p>5 rows × 785 columns</p>\n",
              "</div>\n",
              "    <div class=\"colab-df-buttons\">\n",
              "\n",
              "  <div class=\"colab-df-container\">\n",
              "    <button class=\"colab-df-convert\" onclick=\"convertToInteractive('df-a7ee4618-462e-445b-bb43-cf83e7d1daab')\"\n",
              "            title=\"Convert this dataframe to an interactive table.\"\n",
              "            style=\"display:none;\">\n",
              "\n",
              "  <svg xmlns=\"http://www.w3.org/2000/svg\" height=\"24px\" viewBox=\"0 -960 960 960\">\n",
              "    <path d=\"M120-120v-720h720v720H120Zm60-500h600v-160H180v160Zm220 220h160v-160H400v160Zm0 220h160v-160H400v160ZM180-400h160v-160H180v160Zm440 0h160v-160H620v160ZM180-180h160v-160H180v160Zm440 0h160v-160H620v160Z\"/>\n",
              "  </svg>\n",
              "    </button>\n",
              "\n",
              "  <style>\n",
              "    .colab-df-container {\n",
              "      display:flex;\n",
              "      gap: 12px;\n",
              "    }\n",
              "\n",
              "    .colab-df-convert {\n",
              "      background-color: #E8F0FE;\n",
              "      border: none;\n",
              "      border-radius: 50%;\n",
              "      cursor: pointer;\n",
              "      display: none;\n",
              "      fill: #1967D2;\n",
              "      height: 32px;\n",
              "      padding: 0 0 0 0;\n",
              "      width: 32px;\n",
              "    }\n",
              "\n",
              "    .colab-df-convert:hover {\n",
              "      background-color: #E2EBFA;\n",
              "      box-shadow: 0px 1px 2px rgba(60, 64, 67, 0.3), 0px 1px 3px 1px rgba(60, 64, 67, 0.15);\n",
              "      fill: #174EA6;\n",
              "    }\n",
              "\n",
              "    .colab-df-buttons div {\n",
              "      margin-bottom: 4px;\n",
              "    }\n",
              "\n",
              "    [theme=dark] .colab-df-convert {\n",
              "      background-color: #3B4455;\n",
              "      fill: #D2E3FC;\n",
              "    }\n",
              "\n",
              "    [theme=dark] .colab-df-convert:hover {\n",
              "      background-color: #434B5C;\n",
              "      box-shadow: 0px 1px 3px 1px rgba(0, 0, 0, 0.15);\n",
              "      filter: drop-shadow(0px 1px 2px rgba(0, 0, 0, 0.3));\n",
              "      fill: #FFFFFF;\n",
              "    }\n",
              "  </style>\n",
              "\n",
              "    <script>\n",
              "      const buttonEl =\n",
              "        document.querySelector('#df-a7ee4618-462e-445b-bb43-cf83e7d1daab button.colab-df-convert');\n",
              "      buttonEl.style.display =\n",
              "        google.colab.kernel.accessAllowed ? 'block' : 'none';\n",
              "\n",
              "      async function convertToInteractive(key) {\n",
              "        const element = document.querySelector('#df-a7ee4618-462e-445b-bb43-cf83e7d1daab');\n",
              "        const dataTable =\n",
              "          await google.colab.kernel.invokeFunction('convertToInteractive',\n",
              "                                                    [key], {});\n",
              "        if (!dataTable) return;\n",
              "\n",
              "        const docLinkHtml = 'Like what you see? Visit the ' +\n",
              "          '<a target=\"_blank\" href=https://colab.research.google.com/notebooks/data_table.ipynb>data table notebook</a>'\n",
              "          + ' to learn more about interactive tables.';\n",
              "        element.innerHTML = '';\n",
              "        dataTable['output_type'] = 'display_data';\n",
              "        await google.colab.output.renderOutput(dataTable, element);\n",
              "        const docLink = document.createElement('div');\n",
              "        docLink.innerHTML = docLinkHtml;\n",
              "        element.appendChild(docLink);\n",
              "      }\n",
              "    </script>\n",
              "  </div>\n",
              "\n",
              "\n",
              "<div id=\"df-5138edf6-a659-4c34-8fc5-35440753032c\">\n",
              "  <button class=\"colab-df-quickchart\" onclick=\"quickchart('df-5138edf6-a659-4c34-8fc5-35440753032c')\"\n",
              "            title=\"Suggest charts\"\n",
              "            style=\"display:none;\">\n",
              "\n",
              "<svg xmlns=\"http://www.w3.org/2000/svg\" height=\"24px\"viewBox=\"0 0 24 24\"\n",
              "     width=\"24px\">\n",
              "    <g>\n",
              "        <path d=\"M19 3H5c-1.1 0-2 .9-2 2v14c0 1.1.9 2 2 2h14c1.1 0 2-.9 2-2V5c0-1.1-.9-2-2-2zM9 17H7v-7h2v7zm4 0h-2V7h2v10zm4 0h-2v-4h2v4z\"/>\n",
              "    </g>\n",
              "</svg>\n",
              "  </button>\n",
              "\n",
              "<style>\n",
              "  .colab-df-quickchart {\n",
              "      --bg-color: #E8F0FE;\n",
              "      --fill-color: #1967D2;\n",
              "      --hover-bg-color: #E2EBFA;\n",
              "      --hover-fill-color: #174EA6;\n",
              "      --disabled-fill-color: #AAA;\n",
              "      --disabled-bg-color: #DDD;\n",
              "  }\n",
              "\n",
              "  [theme=dark] .colab-df-quickchart {\n",
              "      --bg-color: #3B4455;\n",
              "      --fill-color: #D2E3FC;\n",
              "      --hover-bg-color: #434B5C;\n",
              "      --hover-fill-color: #FFFFFF;\n",
              "      --disabled-bg-color: #3B4455;\n",
              "      --disabled-fill-color: #666;\n",
              "  }\n",
              "\n",
              "  .colab-df-quickchart {\n",
              "    background-color: var(--bg-color);\n",
              "    border: none;\n",
              "    border-radius: 50%;\n",
              "    cursor: pointer;\n",
              "    display: none;\n",
              "    fill: var(--fill-color);\n",
              "    height: 32px;\n",
              "    padding: 0;\n",
              "    width: 32px;\n",
              "  }\n",
              "\n",
              "  .colab-df-quickchart:hover {\n",
              "    background-color: var(--hover-bg-color);\n",
              "    box-shadow: 0 1px 2px rgba(60, 64, 67, 0.3), 0 1px 3px 1px rgba(60, 64, 67, 0.15);\n",
              "    fill: var(--button-hover-fill-color);\n",
              "  }\n",
              "\n",
              "  .colab-df-quickchart-complete:disabled,\n",
              "  .colab-df-quickchart-complete:disabled:hover {\n",
              "    background-color: var(--disabled-bg-color);\n",
              "    fill: var(--disabled-fill-color);\n",
              "    box-shadow: none;\n",
              "  }\n",
              "\n",
              "  .colab-df-spinner {\n",
              "    border: 2px solid var(--fill-color);\n",
              "    border-color: transparent;\n",
              "    border-bottom-color: var(--fill-color);\n",
              "    animation:\n",
              "      spin 1s steps(1) infinite;\n",
              "  }\n",
              "\n",
              "  @keyframes spin {\n",
              "    0% {\n",
              "      border-color: transparent;\n",
              "      border-bottom-color: var(--fill-color);\n",
              "      border-left-color: var(--fill-color);\n",
              "    }\n",
              "    20% {\n",
              "      border-color: transparent;\n",
              "      border-left-color: var(--fill-color);\n",
              "      border-top-color: var(--fill-color);\n",
              "    }\n",
              "    30% {\n",
              "      border-color: transparent;\n",
              "      border-left-color: var(--fill-color);\n",
              "      border-top-color: var(--fill-color);\n",
              "      border-right-color: var(--fill-color);\n",
              "    }\n",
              "    40% {\n",
              "      border-color: transparent;\n",
              "      border-right-color: var(--fill-color);\n",
              "      border-top-color: var(--fill-color);\n",
              "    }\n",
              "    60% {\n",
              "      border-color: transparent;\n",
              "      border-right-color: var(--fill-color);\n",
              "    }\n",
              "    80% {\n",
              "      border-color: transparent;\n",
              "      border-right-color: var(--fill-color);\n",
              "      border-bottom-color: var(--fill-color);\n",
              "    }\n",
              "    90% {\n",
              "      border-color: transparent;\n",
              "      border-bottom-color: var(--fill-color);\n",
              "    }\n",
              "  }\n",
              "</style>\n",
              "\n",
              "  <script>\n",
              "    async function quickchart(key) {\n",
              "      const quickchartButtonEl =\n",
              "        document.querySelector('#' + key + ' button');\n",
              "      quickchartButtonEl.disabled = true;  // To prevent multiple clicks.\n",
              "      quickchartButtonEl.classList.add('colab-df-spinner');\n",
              "      try {\n",
              "        const charts = await google.colab.kernel.invokeFunction(\n",
              "            'suggestCharts', [key], {});\n",
              "      } catch (error) {\n",
              "        console.error('Error during call to suggestCharts:', error);\n",
              "      }\n",
              "      quickchartButtonEl.classList.remove('colab-df-spinner');\n",
              "      quickchartButtonEl.classList.add('colab-df-quickchart-complete');\n",
              "    }\n",
              "    (() => {\n",
              "      let quickchartButtonEl =\n",
              "        document.querySelector('#df-5138edf6-a659-4c34-8fc5-35440753032c button');\n",
              "      quickchartButtonEl.style.display =\n",
              "        google.colab.kernel.accessAllowed ? 'block' : 'none';\n",
              "    })();\n",
              "  </script>\n",
              "</div>\n",
              "\n",
              "    </div>\n",
              "  </div>\n"
            ],
            "application/vnd.google.colaboratory.intrinsic+json": {
              "type": "dataframe",
              "variable_name": "test_data"
            }
          },
          "metadata": {},
          "execution_count": 91
        }
      ],
      "source": [
        "test_data.head()"
      ]
    },
    {
      "cell_type": "code",
      "execution_count": null,
      "metadata": {
        "colab": {
          "base_uri": "https://localhost:8080/"
        },
        "id": "WYwODl_zHprU",
        "outputId": "d54a9ae2-14a7-4d09-ed53-c27d2ae42b74"
      },
      "outputs": [
        {
          "output_type": "stream",
          "name": "stdout",
          "text": [
            "<class 'pandas.core.frame.DataFrame'>\n",
            "RangeIndex: 60000 entries, 0 to 59999\n",
            "Columns: 785 entries, label to 783\n",
            "dtypes: int64(785)\n",
            "memory usage: 359.3 MB\n",
            "<class 'pandas.core.frame.DataFrame'>\n",
            "RangeIndex: 10000 entries, 0 to 9999\n",
            "Columns: 785 entries, label to 783\n",
            "dtypes: int64(785)\n",
            "memory usage: 59.9 MB\n"
          ]
        }
      ],
      "source": [
        "train_data.info()\n",
        "test_data.info()"
      ]
    },
    {
      "source": [
        "# Split training data\n",
        "Y_train = train_data.iloc[:, 0].values               # First column is labels\n",
        "X_train = train_data.iloc[:, 1:].values / 255.0      # Normalize pixel values (0-255 -> 0-1)\n",
        "\n",
        "# Split test data\n",
        "Y_test = test_data.iloc[:, 0].values                 # First column\n",
        "X_test = test_data.iloc[:, 1:].values / 255.0        # Normalize pixel values"
      ],
      "cell_type": "code",
      "metadata": {
        "id": "e71HH41iozmE"
      },
      "execution_count": null,
      "outputs": []
    },
    {
      "cell_type": "code",
      "source": [
        "# Transpose for training data\n",
        "X_train = X_train.T  # Shape: (784, m_train)\n",
        "Y_train = Y_train.reshape(1, -1)  # Shape: (1, m_train)\n",
        "\n",
        "# Transpose for test data\n",
        "X_test = X_test.T    # Shape: (784, m_test)\n",
        "Y_test = Y_test.reshape(1, -1)    # Shape: (1, m_test)\n"
      ],
      "metadata": {
        "id": "ZSPyaA20pXYl"
      },
      "execution_count": null,
      "outputs": []
    },
    {
      "cell_type": "code",
      "execution_count": null,
      "metadata": {
        "colab": {
          "base_uri": "https://localhost:8080/"
        },
        "id": "e35LtgunHRkb",
        "outputId": "38e77f6f-c5e4-4015-f62b-f9a2473adc61"
      },
      "outputs": [
        {
          "output_type": "execute_result",
          "data": {
            "text/plain": [
              "(60000,)"
            ]
          },
          "metadata": {},
          "execution_count": 96
        }
      ],
      "source": [
        "X_train[0].shape"
      ]
    },
    {
      "cell_type": "code",
      "source": [
        "Y_train"
      ],
      "metadata": {
        "colab": {
          "base_uri": "https://localhost:8080/"
        },
        "id": "Zj14GeeiN3Ez",
        "outputId": "53edeb1f-f1d7-4d70-f337-673bb21b8a91"
      },
      "execution_count": null,
      "outputs": [
        {
          "output_type": "execute_result",
          "data": {
            "text/plain": [
              "array([[5, 0, 4, ..., 5, 6, 8]])"
            ]
          },
          "metadata": {},
          "execution_count": 97
        }
      ]
    },
    {
      "cell_type": "code",
      "execution_count": null,
      "metadata": {
        "id": "iI6SfIxxIBBW"
      },
      "outputs": [],
      "source": [
        "def init_params():\n",
        "    W1 = np.random.randn(128, 784) * 0.01  # 128 neurons in the first hidden layer\n",
        "    b1 = np.zeros((128, 1))\n",
        "    W2 = np.random.randn(64, 128) * 0.01  # 64 neurons in the second hidden layer\n",
        "    b2 = np.zeros((64, 1))\n",
        "    W3 = np.random.randn(10, 64) * 0.01   # 10 outputs (one for each digit)\n",
        "    b3 = np.zeros((10, 1))\n",
        "    return W1, b1, W2, b2, W3, b3"
      ]
    },
    {
      "cell_type": "code",
      "source": [
        "#  Gaussian-shaped function\n",
        "def GSF(x):\n",
        "    return np.where(x > 0, x * np.exp(-x**2), 0)\n",
        "\n",
        "\n",
        "def GSF_deriv(x):\n",
        "    return np.where(x > 0, (1 - 2 * x**2) * np.exp(-x**2), 0)\n"
      ],
      "metadata": {
        "id": "Ee2dTybR8QsT"
      },
      "execution_count": null,
      "outputs": []
    },
    {
      "cell_type": "code",
      "source": [
        "# # Name: Exponential Logistic Activation (ExLog)\n",
        "def ExLog(x):\n",
        "    return x / (1 + np.exp(-np.abs(x)))\n",
        "\n",
        "def ExLog_deriv(x):\n",
        "    abs_x = np.abs(x)\n",
        "    exp_term = np.exp(-abs_x)\n",
        "    return 1 / (1 + exp_term) + (abs_x * exp_term) / (1 + exp_term) ** 2 * np.sign(x)"
      ],
      "metadata": {
        "id": "9wz7Oltu6gHg"
      },
      "execution_count": null,
      "outputs": []
    },
    {
      "cell_type": "code",
      "source": [
        "# # Gaussian Error Linear Unit (GELU) activation function.\n",
        "\n",
        "def GELU(x):\n",
        "    \"\"\"\n",
        "    Gaussian Error Linear Unit (GELU) activation function.\n",
        "    :param x: Input array.\n",
        "    :return: GELU activation values.\n",
        "    \"\"\"\n",
        "    cdf_approx = 0.5 * (1 + np.tanh(np.sqrt(2 / np.pi) * (x + 0.044715 * x**3)))\n",
        "    return x * cdf_approx\n",
        "\n",
        "def GELU_deriv(x):\n",
        "    \"\"\"\n",
        "    Derivative of the GELU activation function.\n",
        "    :param x: Input array.\n",
        "    :return: Derivative values of GELU.\n",
        "    \"\"\"\n",
        "    sqrt_2_pi = np.sqrt(2 / np.pi)\n",
        "    cdf_approx = 0.5 * (1 + np.tanh(sqrt_2_pi * (x + 0.044715 * x**3)))\n",
        "    pdf_approx = sqrt_2_pi * (1 + 3 * 0.044715 * x**2) * (1 - np.tanh(sqrt_2_pi * (x + 0.044715 * x**3))**2)\n",
        "    return cdf_approx + x * pdf_approx"
      ],
      "metadata": {
        "id": "PeCNQRIBTzMO"
      },
      "execution_count": null,
      "outputs": []
    },
    {
      "cell_type": "code",
      "execution_count": null,
      "metadata": {
        "id": "qV4J4M9tIRFO"
      },
      "outputs": [],
      "source": [
        "def leaky_relu(x, alpha=0.01):\n",
        "    return np.where(x > 0, x, alpha * x)\n",
        "\n",
        "def leaky_relu_deriv(x, alpha=0.01):\n",
        "    return np.where(x > 0, 1, alpha)\n",
        "\n",
        "def softmax(Z):\n",
        "    exp_Z = np.exp(Z - np.max(Z, axis=0, keepdims=True))  # Avoid overflow\n",
        "    return exp_Z / np.sum(exp_Z, axis=0, keepdims=True)\n",
        "\n",
        "def forward_prop_with_GSF(W1, b1, W2, b2, W3, b3, X):\n",
        "\n",
        "    Z1 = W1.dot(X) + b1\n",
        "    A1 = GSF(Z1)  # Using Leaky GSF here\n",
        "    Z2 = W2.dot(A1) + b2\n",
        "    A2 = GSF(Z2)  # Second hidden layer with Leaky ReLU\n",
        "    Z3 = W3.dot(A2) + b3\n",
        "    A3 = softmax(Z3)     # Output layer\n",
        "    return Z1, A1, Z2, A2, Z3, A3\n",
        "\n",
        "def forward_prop_with_ExLog(W1, b1, W2, b2, W3, b3, X):\n",
        "    Z1 = W1.dot(X) + b1\n",
        "    A1 = ExLog(Z1)  # Using Leaky ExLog here\n",
        "    Z2 = W2.dot(A1) + b2\n",
        "    A2 = ExLog(Z2)  # Second hidden layer with Leaky ReLU\n",
        "    Z3 = W3.dot(A2) + b3\n",
        "    A3 = softmax(Z3)     # Output layer\n",
        "    return Z1, A1, Z2, A2, Z3, A3\n",
        "\n",
        "def forward_prop_with_GELU(W1, b1, W2, b2, W3, b3, X):\n",
        "    Z1 = W1.dot(X) + b1\n",
        "    A1 = GELU(Z1)  # Using Leaky GELU here\n",
        "    Z2 = W2.dot(A1) + b2\n",
        "    A2 = GELU(Z2)  # Second hidden layer with Leaky ReLU\n",
        "    Z3 = W3.dot(A2) + b3\n",
        "    A3 = softmax(Z3)     # Output layer\n",
        "    return Z1, A1, Z2, A2, Z3, A3\n",
        "\n",
        "def forward_prop(W1, b1, W2, b2, W3, b3, X):\n",
        "    Z1 = W1.dot(X) + b1\n",
        "    A1 = leaky_relu(Z1)  # Using Leaky ReLU here\n",
        "    Z2 = W2.dot(A1) + b2\n",
        "    A2 = leaky_relu(Z2)  # Second hidden layer with Leaky ReLU\n",
        "    Z3 = W3.dot(A2) + b3\n",
        "    A3 = softmax(Z3)     # Output layer\n",
        "    return Z1, A1, Z2, A2, Z3, A3\n",
        "\n",
        "\n",
        "def one_hot(Y):\n",
        "    # Ensure Y contains integers by casting to int\n",
        "    Y = Y.astype(int)\n",
        "    one_hot_Y = np.zeros((Y.size, Y.max() + 1))\n",
        "    one_hot_Y[np.arange(Y.size), Y] = 1\n",
        "    one_hot_Y = one_hot_Y.T\n",
        "    return one_hot_Y\n",
        "#############################################\n",
        "\n",
        "\n",
        "def backward_prop_with_GSF(Z1, A1, Z2, A2, Z3, A3, W1, W2, W3, X, Y, m_train):\n",
        "    one_hot_Y = one_hot(Y)\n",
        "\n",
        "    # Compute derivatives for output layer\n",
        "    dZ3 = A3 - one_hot_Y\n",
        "    dW3 = (1 / m_train) * dZ3.dot(A2.T)\n",
        "    db3 = (1 / m_train) * np.sum(dZ3, axis=1, keepdims=True)\n",
        "\n",
        "    # Compute derivatives for second hidden layer\n",
        "    dZ2 = W3.T.dot(dZ3) * GSF_deriv(Z2)\n",
        "    dW2 = (1 / m_train) * dZ2.dot(A1.T)\n",
        "    db2 = (1 / m_train) * np.sum(dZ2, axis=1, keepdims=True)\n",
        "\n",
        "    # Compute derivatives for first hidden layer\n",
        "    dZ1 = W2.T.dot(dZ2) * GSF_deriv(Z1)\n",
        "    dW1 = (1 / m_train) * dZ1.dot(X.T)\n",
        "    db1 = (1 / m_train) * np.sum(dZ1, axis=1, keepdims=True)\n",
        "\n",
        "    return dW1, db1, dW2, db2, dW3, db3\n",
        "\n",
        "\n",
        "def backward_prop_with_ExLog(Z1, A1, Z2, A2, Z3, A3, W1, W2, W3, X, Y, m_train):\n",
        "    one_hot_Y = one_hot(Y)\n",
        "\n",
        "    # Compute derivatives for output layer\n",
        "    dZ3 = A3 - one_hot_Y\n",
        "    dW3 = (1 / m_train) * dZ3.dot(A2.T)\n",
        "    db3 = (1 / m_train) * np.sum(dZ3, axis=1, keepdims=True)\n",
        "\n",
        "    # Compute derivatives for second hidden layer\n",
        "    dZ2 = W3.T.dot(dZ3) * ExLog_deriv(Z2)\n",
        "    dW2 = (1 / m_train) * dZ2.dot(A1.T)\n",
        "    db2 = (1 / m_train) * np.sum(dZ2, axis=1, keepdims=True)\n",
        "\n",
        "    # Compute derivatives for first hidden layer\n",
        "    dZ1 = W2.T.dot(dZ2) * ExLog_deriv(Z1)\n",
        "    dW1 = (1 / m_train) * dZ1.dot(X.T)\n",
        "    db1 = (1 / m_train) * np.sum(dZ1, axis=1, keepdims=True)\n",
        "\n",
        "    return dW1, db1, dW2, db2, dW3, db3\n",
        "def backward_prop_with_GELU(Z1, A1, Z2, A2, Z3, A3, W1, W2, W3, X, Y, m_train):\n",
        "    one_hot_Y = one_hot(Y)\n",
        "\n",
        "    # Compute derivatives for output layer\n",
        "    dZ3 = A3 - one_hot_Y\n",
        "    dW3 = (1 / m_train) * dZ3.dot(A2.T)\n",
        "    db3 = (1 / m_train) * np.sum(dZ3, axis=1, keepdims=True)\n",
        "\n",
        "    # Compute derivatives for second hidden layer\n",
        "    dZ2 = W3.T.dot(dZ3) * GELU_deriv(Z2)\n",
        "    dW2 = (1 / m_train) * dZ2.dot(A1.T)\n",
        "    db2 = (1 / m_train) * np.sum(dZ2, axis=1, keepdims=True)\n",
        "\n",
        "    # Compute derivatives for first hidden layer\n",
        "    dZ1 = W2.T.dot(dZ2) * GELU_deriv(Z1)\n",
        "    dW1 = (1 / m_train) * dZ1.dot(X.T)\n",
        "    db1 = (1 / m_train) * np.sum(dZ1, axis=1, keepdims=True)\n",
        "\n",
        "    return dW1, db1, dW2, db2, dW3, db3\n",
        "def backward_prop(Z1, A1, Z2, A2, Z3, A3, W1, W2, W3, X, Y, m_train):\n",
        "    one_hot_Y = one_hot(Y)\n",
        "\n",
        "    # Compute derivatives for output layer\n",
        "    dZ3 = A3 - one_hot_Y\n",
        "    dW3 = (1 / m_train) * dZ3.dot(A2.T)\n",
        "    db3 = (1 / m_train) * np.sum(dZ3, axis=1, keepdims=True)\n",
        "\n",
        "    # Compute derivatives for second hidden layer\n",
        "    dZ2 = W3.T.dot(dZ3) * leaky_relu_deriv(Z2)\n",
        "    dW2 = (1 / m_train) * dZ2.dot(A1.T)\n",
        "    db2 = (1 / m_train) * np.sum(dZ2, axis=1, keepdims=True)\n",
        "\n",
        "    # Compute derivatives for first hidden layer\n",
        "    dZ1 = W2.T.dot(dZ2) * leaky_relu_deriv(Z1)\n",
        "    dW1 = (1 / m_train) * dZ1.dot(X.T)\n",
        "    db1 = (1 / m_train) * np.sum(dZ1, axis=1, keepdims=True)\n",
        "\n",
        "    return dW1, db1, dW2, db2, dW3, db3\n",
        "\n",
        "\n",
        "#############################################\n",
        "\n",
        "def update_params_with_adam(W1, b1, W2, b2, W3, b3, dW1, db1, dW2, db2, dW3, db3,\n",
        "                            mW1, mb1, mW2, mb2, mW3, mb3, vW1, vb1, vW2, vb2, vW3, vb3,\n",
        "                            alpha, beta1, beta2, epsilon, t):\n",
        "    # Update moving averages of gradients (first moment)\n",
        "\n",
        "\n",
        "\n",
        "    mW1 = beta1 * mW1 + (1 - beta1) * dW1\n",
        "    mb1 = beta1 * mb1 + (1 - beta1) * db1\n",
        "    mW2 = beta1 * mW2 + (1 - beta1) * dW2\n",
        "    mb2 = beta1 * mb2 + (1 - beta1) * db2\n",
        "    mW3 = beta1 * mW3 + (1 - beta1) * dW3\n",
        "    mb3 = beta1 * mb3 + (1 - beta1) * db3\n",
        "\n",
        "    # Update moving averages of squared gradients (second moment)\n",
        "    vW1 = beta2 * vW1 + (1 - beta2) * (dW1**2)\n",
        "    vb1 = beta2 * vb1 + (1 - beta2) * (db1**2)\n",
        "    vW2 = beta2 * vW2 + (1 - beta2) * (dW2**2)\n",
        "    vb2 = beta2 * vb2 + (1 - beta2) * (db2**2)\n",
        "    vW3 = beta2 * vW3 + (1 - beta2) * (dW3**2)\n",
        "    vb3 = beta2 * vb3 + (1 - beta2) * (db3**2)\n",
        "\n",
        "    # Correct bias in moving averages\n",
        "    mW1_corrected = mW1 / (1 - beta1**t)\n",
        "    mb1_corrected = mb1 / (1 - beta1**t)\n",
        "    mW2_corrected = mW2 / (1 - beta1**t)\n",
        "    mb2_corrected = mb2 / (1 - beta1**t)\n",
        "    mW3_corrected = mW3 / (1 - beta1**t)\n",
        "    mb3_corrected = mb3 / (1 - beta1**t)\n",
        "\n",
        "    vW1_corrected = vW1 / (1 - beta2**t)\n",
        "    vb1_corrected = vb1 / (1 - beta2**t)\n",
        "    vW2_corrected = vW2 / (1 - beta2**t)\n",
        "    vb2_corrected = vb2 / (1 - beta2**t)\n",
        "    vW3_corrected = vW3 / (1 - beta2**t)\n",
        "    vb3_corrected = vb3 / (1 - beta2**t)\n",
        "\n",
        "    # Update parameters\n",
        "    W1 -= alpha * mW1_corrected / (np.sqrt(vW1_corrected) + epsilon)\n",
        "    b1 -= alpha * mb1_corrected / (np.sqrt(vb1_corrected) + epsilon)\n",
        "    W2 -= alpha * mW2_corrected / (np.sqrt(vW2_corrected) + epsilon)\n",
        "    b2 -= alpha * mb2_corrected / (np.sqrt(vb2_corrected) + epsilon)\n",
        "    W3 -= alpha * mW3_corrected / (np.sqrt(vW3_corrected) + epsilon)\n",
        "    b3 -= alpha * mb3_corrected / (np.sqrt(vb3_corrected) + epsilon)\n",
        "\n",
        "    return W1, b1, W2, b2, W3, b3, mW1, mb1, mW2, mb2, mW3, mb3, vW1, vb1, vW2, vb2, vW3, vb3\n",
        "\n",
        "\n"
      ]
    },
    {
      "cell_type": "code",
      "execution_count": null,
      "metadata": {
        "id": "r-FfiWgNJP2O"
      },
      "outputs": [],
      "source": [
        "def get_predictions(A3):\n",
        "    return np.argmax(A3, 0)\n",
        "\n",
        "def get_accuracy(predictions, Y):\n",
        "    print(predictions, Y)\n",
        "    return np.sum(predictions == Y) / Y.size\n",
        "\n",
        "\n"
      ]
    },
    {
      "cell_type": "code",
      "source": [
        "def make_predictions_with_GSF(X, W1, b1, W2, b2, W3, b3):\n",
        "    _, _, _, _, _, A3 = forward_prop_with_GSF(W1, b1, W2, b2, W3, b3, X)\n",
        "    predictions = get_predictions(A3)\n",
        "    return predictions\n",
        "def make_predictions_with_ExLog(X, W1, b1, W2, b2, W3, b3):\n",
        "    _, _, _, _, _, A3 = forward_prop_with_ExLog(W1, b1, W2, b2, W3, b3, X)\n",
        "    predictions = get_predictions(A3)\n",
        "    return predictions\n",
        "def make_predictions_with_GELU(X, W1, b1, W2, b2, W3, b3):\n",
        "    _, _, _, _, _, A3 = forward_prop_with_GELU(W1, b1, W2, b2, W3, b3, X)\n",
        "    predictions = get_predictions(A3)\n",
        "    return predictions\n",
        "def make_predictions(X, W1, b1, W2, b2, W3, b3):\n",
        "    _, _, _, _, _, A3 = forward_prop(W1, b1, W2, b2, W3, b3, X)\n",
        "    predictions = get_predictions(A3)\n",
        "    return predictions"
      ],
      "metadata": {
        "id": "2UQxA-HrRoJC"
      },
      "execution_count": null,
      "outputs": []
    },
    {
      "cell_type": "code",
      "source": [
        "def gradient_descent_with_GSF(X, Y, alpha, iterations, beta1, beta2, epsilon):\n",
        "    # Initialize parameters\n",
        "    W1, b1, W2, b2, W3, b3 = init_params()\n",
        "    mW1, mb1, mW2, mb2, mW3, mb3 = np.zeros_like(W1), np.zeros_like(b1), np.zeros_like(W2), np.zeros_like(b2), np.zeros_like(W3), np.zeros_like(b3)\n",
        "    vW1, vb1, vW2, vb2, vW3, vb3 = np.zeros_like(W1), np.zeros_like(b1), np.zeros_like(W2), np.zeros_like(b2), np.zeros_like(W3), np.zeros_like(b3)\n",
        "\n",
        "    for t in range(1, iterations + 1):\n",
        "        # Forward propagation\n",
        "        Z1, A1, Z2, A2, Z3, A3 = forward_prop_with_GSF(W1, b1, W2, b2, W3, b3, X)\n",
        "\n",
        "        # Backward propagation\n",
        "        dW1, db1, dW2, db2, dW3, db3 = backward_prop_with_GSF(Z1, A1, Z2, A2, Z3, A3, W1, W2, W3, X, Y, X.shape[1])\n",
        "\n",
        "\n",
        "        # Update parameters using Adam\n",
        "        W1, b1, W2, b2, W3, b3, mW1, mb1, mW2, mb2, mW3, mb3, vW1, vb1, vW2, vb2, vW3, vb3 = update_params_with_adam(\n",
        "            W1, b1, W2, b2, W3, b3, dW1, db1, dW2, db2, dW3, db3,\n",
        "            mW1, mb1, mW2, mb2, mW3, mb3, vW1, vb1, vW2, vb2, vW3, vb3,\n",
        "            alpha, beta1, beta2, epsilon, t\n",
        "        )\n",
        "\n",
        "        # Print progress\n",
        "        if t % 10 == 0:\n",
        "            predictions = make_predictions_with_GSF(X, W1, b1, W2, b2, W3, b3)\n",
        "            accuracy = get_accuracy(predictions, Y)\n",
        "            print(f\"Iteration {t}: Accuracy = {accuracy:.4f}\")\n",
        "\n",
        "    return W1, b1, W2, b2, W3, b3\n",
        "\n",
        "def gradient_descent_with_ExLog(X, Y, alpha, iterations, beta1, beta2, epsilon):\n",
        "    # Initialize parameters\n",
        "    W1, b1, W2, b2, W3, b3 = init_params()\n",
        "    mW1, mb1, mW2, mb2, mW3, mb3 = np.zeros_like(W1), np.zeros_like(b1), np.zeros_like(W2), np.zeros_like(b2), np.zeros_like(W3), np.zeros_like(b3)\n",
        "    vW1, vb1, vW2, vb2, vW3, vb3 = np.zeros_like(W1), np.zeros_like(b1), np.zeros_like(W2), np.zeros_like(b2), np.zeros_like(W3), np.zeros_like(b3)\n",
        "\n",
        "    for t in range(1, iterations + 1):\n",
        "        # Forward propagation\n",
        "        Z1, A1, Z2, A2, Z3, A3 = forward_prop_with_ExLog(W1, b1, W2, b2, W3, b3, X)\n",
        "\n",
        "        # Backward propagation\n",
        "        dW1, db1, dW2, db2, dW3, db3 = backward_prop_with_ExLog(Z1, A1, Z2, A2, Z3, A3, W1, W2, W3, X, Y, X.shape[1])\n",
        "\n",
        "\n",
        "        # Update parameters using Adam\n",
        "        W1, b1, W2, b2, W3, b3, mW1, mb1, mW2, mb2, mW3, mb3, vW1, vb1, vW2, vb2, vW3, vb3 = update_params_with_adam(\n",
        "            W1, b1, W2, b2, W3, b3, dW1, db1, dW2, db2, dW3, db3,\n",
        "            mW1, mb1, mW2, mb2, mW3, mb3, vW1, vb1, vW2, vb2, vW3, vb3,\n",
        "            alpha, beta1, beta2, epsilon, t\n",
        "        )\n",
        "\n",
        "        # Print progress\n",
        "        if t % 10 == 0:\n",
        "            predictions = make_predictions_with_ExLog(X, W1, b1, W2, b2, W3, b3)\n",
        "            accuracy = get_accuracy(predictions, Y)\n",
        "            print(f\"Iteration {t}: Accuracy = {accuracy:.4f}\")\n",
        "\n",
        "    return W1, b1, W2, b2, W3, b3\n",
        "\n",
        "\n",
        "def gradient_descent_with_GELU(X, Y, alpha, iterations, beta1, beta2, epsilon):\n",
        "    # Initialize parameters\n",
        "    W1, b1, W2, b2, W3, b3 = init_params()\n",
        "    mW1, mb1, mW2, mb2, mW3, mb3 = np.zeros_like(W1), np.zeros_like(b1), np.zeros_like(W2), np.zeros_like(b2), np.zeros_like(W3), np.zeros_like(b3)\n",
        "    vW1, vb1, vW2, vb2, vW3, vb3 = np.zeros_like(W1), np.zeros_like(b1), np.zeros_like(W2), np.zeros_like(b2), np.zeros_like(W3), np.zeros_like(b3)\n",
        "\n",
        "    for t in range(1, iterations + 1):\n",
        "        # Forward propagation\n",
        "        Z1, A1, Z2, A2, Z3, A3 = forward_prop_with_GELU(W1, b1, W2, b2, W3, b3, X)\n",
        "\n",
        "        # Backward propagation\n",
        "        dW1, db1, dW2, db2, dW3, db3 = backward_prop_with_GELU(Z1, A1, Z2, A2, Z3, A3, W1, W2, W3, X, Y, X.shape[1])\n",
        "\n",
        "\n",
        "        # Update parameters using Adam\n",
        "        W1, b1, W2, b2, W3, b3, mW1, mb1, mW2, mb2, mW3, mb3, vW1, vb1, vW2, vb2, vW3, vb3 = update_params_with_adam(\n",
        "            W1, b1, W2, b2, W3, b3, dW1, db1, dW2, db2, dW3, db3,\n",
        "            mW1, mb1, mW2, mb2, mW3, mb3, vW1, vb1, vW2, vb2, vW3, vb3,\n",
        "            alpha, beta1, beta2, epsilon, t\n",
        "        )\n",
        "\n",
        "        # Print progress\n",
        "        if t % 10 == 0:\n",
        "            predictions = make_predictions_with_GELU(X, W1, b1, W2, b2, W3, b3)\n",
        "            accuracy = get_accuracy(predictions, Y)\n",
        "            print(f\"Iteration {t}: Accuracy = {accuracy:.4f}\")\n",
        "\n",
        "    return W1, b1, W2, b2, W3, b3\n",
        "def gradient_descent(X, Y, alpha, iterations, beta1, beta2, epsilon):\n",
        "    # Initialize parameters\n",
        "    W1, b1, W2, b2, W3, b3 = init_params()\n",
        "    mW1, mb1, mW2, mb2, mW3, mb3 = np.zeros_like(W1), np.zeros_like(b1), np.zeros_like(W2), np.zeros_like(b2), np.zeros_like(W3), np.zeros_like(b3)\n",
        "    vW1, vb1, vW2, vb2, vW3, vb3 = np.zeros_like(W1), np.zeros_like(b1), np.zeros_like(W2), np.zeros_like(b2), np.zeros_like(W3), np.zeros_like(b3)\n",
        "\n",
        "    for t in range(1, iterations + 1):\n",
        "        # Forward propagation\n",
        "        Z1, A1, Z2, A2, Z3, A3 = forward_prop(W1, b1, W2, b2, W3, b3, X)\n",
        "\n",
        "        # Backward propagation\n",
        "        dW1, db1, dW2, db2, dW3, db3 = backward_prop(Z1, A1, Z2, A2, Z3, A3, W1, W2, W3, X, Y, X.shape[1])\n",
        "\n",
        "\n",
        "        # Update parameters using Adam\n",
        "        W1, b1, W2, b2, W3, b3, mW1, mb1, mW2, mb2, mW3, mb3, vW1, vb1, vW2, vb2, vW3, vb3 = update_params_with_adam(\n",
        "            W1, b1, W2, b2, W3, b3, dW1, db1, dW2, db2, dW3, db3,\n",
        "            mW1, mb1, mW2, mb2, mW3, mb3, vW1, vb1, vW2, vb2, vW3, vb3,\n",
        "            alpha, beta1, beta2, epsilon, t\n",
        "        )\n",
        "\n",
        "        # Print progress\n",
        "        if t % 10 == 0:\n",
        "            predictions = make_predictions(X, W1, b1, W2, b2, W3, b3)\n",
        "            accuracy = get_accuracy(predictions, Y)\n",
        "            print(f\"Iteration {t}: Accuracy = {accuracy:.4f}\")\n",
        "\n",
        "    return W1, b1, W2, b2, W3, b3\n"
      ],
      "metadata": {
        "id": "BgipZEIrQRlo"
      },
      "execution_count": null,
      "outputs": []
    },
    {
      "cell_type": "code",
      "execution_count": null,
      "metadata": {
        "id": "zlBUW1CJJSuc",
        "colab": {
          "base_uri": "https://localhost:8080/"
        },
        "outputId": "1bd7454f-14e0-424a-d9c2-797296e335e4"
      },
      "outputs": [
        {
          "output_type": "stream",
          "name": "stdout",
          "text": [
            "[3 0 7 ... 3 6 3] [[5 0 4 ... 5 6 8]]\n",
            "Iteration 10: Accuracy = 0.3824\n",
            "[3 0 7 ... 3 6 3] [[5 0 4 ... 5 6 8]]\n",
            "Iteration 20: Accuracy = 0.4724\n",
            "[3 0 7 ... 3 6 3] [[5 0 4 ... 5 6 8]]\n",
            "Iteration 30: Accuracy = 0.5440\n",
            "[3 0 7 ... 3 6 3] [[5 0 4 ... 5 6 8]]\n",
            "Iteration 40: Accuracy = 0.5871\n",
            "[3 0 7 ... 3 6 8] [[5 0 4 ... 5 6 8]]\n",
            "Iteration 50: Accuracy = 0.6456\n",
            "[3 0 7 ... 3 6 8] [[5 0 4 ... 5 6 8]]\n",
            "Iteration 60: Accuracy = 0.7202\n",
            "[3 0 7 ... 5 6 8] [[5 0 4 ... 5 6 8]]\n",
            "Iteration 70: Accuracy = 0.7838\n",
            "[3 0 7 ... 5 6 8] [[5 0 4 ... 5 6 8]]\n",
            "Iteration 80: Accuracy = 0.8125\n",
            "[3 0 7 ... 5 6 8] [[5 0 4 ... 5 6 8]]\n",
            "Iteration 90: Accuracy = 0.8295\n",
            "[3 0 4 ... 5 6 8] [[5 0 4 ... 5 6 8]]\n",
            "Iteration 100: Accuracy = 0.8412\n",
            "[5 0 4 ... 5 6 8] [[5 0 4 ... 5 6 8]]\n",
            "Iteration 110: Accuracy = 0.9116\n",
            "[5 0 4 ... 5 6 8] [[5 0 4 ... 5 6 8]]\n",
            "Iteration 120: Accuracy = 0.9284\n",
            "[5 0 4 ... 5 6 8] [[5 0 4 ... 5 6 8]]\n",
            "Iteration 130: Accuracy = 0.9375\n",
            "[5 0 4 ... 5 6 8] [[5 0 4 ... 5 6 8]]\n",
            "Iteration 140: Accuracy = 0.9446\n",
            "[5 0 4 ... 5 6 8] [[5 0 4 ... 5 6 8]]\n",
            "Iteration 150: Accuracy = 0.9510\n",
            "[5 0 4 ... 5 6 8] [[5 0 4 ... 5 6 8]]\n",
            "Iteration 160: Accuracy = 0.9568\n",
            "[5 0 4 ... 5 6 8] [[5 0 4 ... 5 6 8]]\n",
            "Iteration 170: Accuracy = 0.9611\n",
            "[5 0 4 ... 5 6 8] [[5 0 4 ... 5 6 8]]\n",
            "Iteration 180: Accuracy = 0.9649\n",
            "[5 0 4 ... 5 6 8] [[5 0 4 ... 5 6 8]]\n",
            "Iteration 190: Accuracy = 0.9676\n",
            "[5 0 4 ... 5 6 8] [[5 0 4 ... 5 6 8]]\n",
            "Iteration 200: Accuracy = 0.9702\n",
            "[7 2 1 ... 4 5 6] [[7 2 1 ... 4 5 6]]\n",
            " Accuracy with GSF: 0.9515\n"
          ]
        }
      ],
      "source": [
        "# Initialize parameters and train\n",
        "alpha = 0.001\n",
        "iterations = 200\n",
        "beta1 = 0.9\n",
        "beta2 = 0.999\n",
        "epsilon = 1e-8\n",
        "\n",
        "W1, b1, W2, b2, W3, b3 = gradient_descent_with_GSF(X_train, Y_train, alpha, iterations, beta1, beta2, epsilon)\n",
        "\n",
        "# Evaluate on dev set\n",
        "dev_predictions = make_predictions_with_GSF(X_test, W1, b1, W2, b2, W3, b3)\n",
        "accuracy_GSF = get_accuracy(dev_predictions, Y_test)\n",
        "print(f\" Accuracy with GSF: {accuracy_GSF}\")\n",
        "\n"
      ]
    },
    {
      "cell_type": "code",
      "source": [
        "def test_prediction_with_GSF(index, W1, b1, W2, b2, W3, b3):\n",
        "    current_image = X_train[:, index, None]\n",
        "    # Pass W3 and b3 to make_predictions\n",
        "    prediction = make_predictions_with_GELU(X_train[:, index, None], W1, b1, W2, b2, W3, b3)\n",
        "    # Reshape Y_train to be a 1D array or access it with Y_train[0, index] if it's 2D\n",
        "    label = Y_train[0, index] if Y_train.ndim == 2 else Y_train[index] # Access label assuming Y_train is 2D or 1D\n",
        "    print(\"Prediction: \", prediction)\n",
        "    print(\"Label: \", label)\n",
        "\n",
        "    current_image = current_image.reshape((28, 28)) * 255\n",
        "    plt.gray()\n",
        "    plt.imshow(current_image, interpolation='nearest')\n",
        "    plt.show()"
      ],
      "metadata": {
        "id": "jiDAeBqTCFhG"
      },
      "execution_count": null,
      "outputs": []
    },
    {
      "cell_type": "code",
      "source": [
        "test_prediction_with_GSF(0, W1, b1, W2, b2, W3 , b3)\n",
        "test_prediction_with_GSF(5, W1, b1, W2, b2,W3 , b3)\n",
        "test_prediction_with_GSF(8, W1, b1, W2, b2,W3 , b3)\n",
        "test_prediction_with_GSF(4, W1, b1, W2, b2,W3 , b3)"
      ],
      "metadata": {
        "collapsed": true,
        "colab": {
          "base_uri": "https://localhost:8080/",
          "height": 1000
        },
        "id": "btgm9gHECQbD",
        "outputId": "cf257c17-6c6a-4ead-f132-6efee3239449"
      },
      "execution_count": null,
      "outputs": [
        {
          "output_type": "stream",
          "name": "stdout",
          "text": [
            "Prediction:  [5]\n",
            "Label:  5\n"
          ]
        },
        {
          "output_type": "display_data",
          "data": {
            "text/plain": [
              "<Figure size 640x480 with 1 Axes>"
            ],
            "image/png": "[encoded data removed]"
          },
          "metadata": {}
        },
        {
          "output_type": "stream",
          "name": "stdout",
          "text": [
            "Prediction:  [2]\n",
            "Label:  2\n"
          ]
        },
        {
          "output_type": "display_data",
          "data": {
            "text/plain": [
              "<Figure size 640x480 with 1 Axes>"
            ],
            "image/png": "[encoded data removed]"
          },
          "metadata": {}
        },
        {
          "output_type": "stream",
          "name": "stdout",
          "text": [
            "Prediction:  [1]\n",
            "Label:  1\n"
          ]
        },
        {
          "output_type": "display_data",
          "data": {
            "text/plain": [
              "<Figure size 640x480 with 1 Axes>"
            ],
            "image/png": "[encoded data removed]"
          },
          "metadata": {}
        },
        {
          "output_type": "stream",
          "name": "stdout",
          "text": [
            "Prediction:  [9]\n",
            "Label:  9\n"
          ]
        },
        {
          "output_type": "display_data",
          "data": {
            "text/plain": [
              "<Figure size 640x480 with 1 Axes>"
            ],
            "image/png": "[encoded data removed]"
          },
          "metadata": {}
        }
      ]
    },
    {
      "cell_type": "code",
      "source": [
        "# Initialize parameters and train\n",
        "alpha = 0.001\n",
        "iterations = 200\n",
        "beta1 = 0.9\n",
        "beta2 = 0.999\n",
        "epsilon = 1e-8\n",
        "\n",
        "W1, b1, W2, b2, W3, b3 = gradient_descent_with_ExLog(X_train, Y_train, alpha, iterations, beta1, beta2, epsilon)\n",
        "\n",
        "# Evaluate on dev set\n",
        "dev_predictions = make_predictions_with_ExLog(X_test, W1, b1, W2, b2, W3, b3)\n",
        "accuracy_ExLog = get_accuracy(dev_predictions, Y_test)\n",
        "print(f\" Accuracy with ExLog: {accuracy_ExLog}\")\n",
        "\n"
      ],
      "metadata": {
        "colab": {
          "base_uri": "https://localhost:8080/"
        },
        "id": "1V8Qt8afyvNW",
        "outputId": "818bc298-7360-48e7-d049-6337e6a8e5fb"
      },
      "execution_count": null,
      "outputs": [
        {
          "output_type": "stream",
          "name": "stdout",
          "text": [
            "[3 0 7 ... 3 0 3] [[5 0 4 ... 5 6 8]]\n",
            "Iteration 10: Accuracy = 0.3662\n",
            "[3 0 7 ... 3 0 0] [[5 0 4 ... 5 6 8]]\n",
            "Iteration 20: Accuracy = 0.3252\n",
            "[3 0 7 ... 8 6 3] [[5 0 4 ... 5 6 8]]\n",
            "Iteration 30: Accuracy = 0.4957\n",
            "[3 0 7 ... 8 6 8] [[5 0 4 ... 5 6 8]]\n",
            "Iteration 40: Accuracy = 0.6731\n",
            "[3 0 9 ... 5 6 8] [[5 0 4 ... 5 6 8]]\n",
            "Iteration 50: Accuracy = 0.7496\n",
            "[5 0 9 ... 5 6 8] [[5 0 4 ... 5 6 8]]\n",
            "Iteration 60: Accuracy = 0.8039\n",
            "[3 0 9 ... 5 6 8] [[5 0 4 ... 5 6 8]]\n",
            "Iteration 70: Accuracy = 0.8414\n",
            "[3 0 4 ... 5 6 8] [[5 0 4 ... 5 6 8]]\n",
            "Iteration 80: Accuracy = 0.8681\n",
            "[3 0 4 ... 5 6 8] [[5 0 4 ... 5 6 8]]\n",
            "Iteration 90: Accuracy = 0.8857\n",
            "[3 0 4 ... 5 6 8] [[5 0 4 ... 5 6 8]]\n",
            "Iteration 100: Accuracy = 0.8952\n",
            "[3 0 4 ... 5 6 8] [[5 0 4 ... 5 6 8]]\n",
            "Iteration 110: Accuracy = 0.9014\n",
            "[3 0 4 ... 5 6 8] [[5 0 4 ... 5 6 8]]\n",
            "Iteration 120: Accuracy = 0.9058\n",
            "[3 0 4 ... 5 6 8] [[5 0 4 ... 5 6 8]]\n",
            "Iteration 130: Accuracy = 0.9104\n",
            "[3 0 4 ... 5 6 8] [[5 0 4 ... 5 6 8]]\n",
            "Iteration 140: Accuracy = 0.9138\n",
            "[3 0 4 ... 5 6 8] [[5 0 4 ... 5 6 8]]\n",
            "Iteration 150: Accuracy = 0.9174\n",
            "[3 0 4 ... 5 6 8] [[5 0 4 ... 5 6 8]]\n",
            "Iteration 160: Accuracy = 0.9203\n",
            "[3 0 4 ... 5 6 8] [[5 0 4 ... 5 6 8]]\n",
            "Iteration 170: Accuracy = 0.9230\n",
            "[3 0 4 ... 5 6 8] [[5 0 4 ... 5 6 8]]\n",
            "Iteration 180: Accuracy = 0.9246\n",
            "[5 0 4 ... 5 6 8] [[5 0 4 ... 5 6 8]]\n",
            "Iteration 190: Accuracy = 0.9262\n",
            "[5 0 4 ... 5 6 8] [[5 0 4 ... 5 6 8]]\n",
            "Iteration 200: Accuracy = 0.9276\n",
            "[7 2 1 ... 4 5 6] [[7 2 1 ... 4 5 6]]\n",
            " Accuracy with ExLog: 0.9257\n"
          ]
        }
      ]
    },
    {
      "cell_type": "code",
      "source": [
        "def test_prediction_with_ExLog(index, W1, b1, W2, b2, W3, b3):\n",
        "    current_image = X_train[:, index, None]\n",
        "    # Pass W3 and b3 to make_predictions\n",
        "    prediction = make_predictions_with_ExLog(X_train[:, index, None], W1, b1, W2, b2, W3, b3)\n",
        "    # Reshape Y_train to be a 1D array or access it with Y_train[0, index] if it's 2D\n",
        "    label = Y_train[0, index] if Y_train.ndim == 2 else Y_train[index] # Access label assuming Y_train is 2D or 1D\n",
        "    print(\"Prediction: \", prediction)\n",
        "    print(\"Label: \", label)\n",
        "\n",
        "    current_image = current_image.reshape((28, 28)) * 255\n",
        "    plt.gray()\n",
        "    plt.imshow(current_image, interpolation='nearest')\n",
        "    plt.show()"
      ],
      "metadata": {
        "id": "hmik57isC34r"
      },
      "execution_count": null,
      "outputs": []
    },
    {
      "cell_type": "code",
      "source": [
        "test_prediction_with_ExLog(0, W1, b1, W2, b2, W3 , b3)\n",
        "test_prediction_with_ExLog(5, W1, b1, W2, b2,W3 , b3)\n",
        "test_prediction_with_ExLog(8, W1, b1, W2, b2,W3 , b3)\n",
        "test_prediction_with_ExLog(4, W1, b1, W2, b2,W3 , b3)"
      ],
      "metadata": {
        "collapsed": true,
        "colab": {
          "base_uri": "https://localhost:8080/",
          "height": 1000
        },
        "id": "x3rDuqanC-Xn",
        "outputId": "69b31474-9215-45bb-a609-de38ac1c3202"
      },
      "execution_count": null,
      "outputs": [
        {
          "output_type": "stream",
          "name": "stdout",
          "text": [
            "Prediction:  [5]\n",
            "Label:  5\n"
          ]
        },
        {
          "output_type": "display_data",
          "data": {
            "text/plain": [
              "<Figure size 640x480 with 1 Axes>"
            ],
            "image/png": "[encoded data removed]"
          },
          "metadata": {}
        },
        {
          "output_type": "stream",
          "name": "stdout",
          "text": [
            "Prediction:  [2]\n",
            "Label:  2\n"
          ]
        },
        {
          "output_type": "display_data",
          "data": {
            "text/plain": [
              "<Figure size 640x480 with 1 Axes>"
            ],
            "image/png": "[encoded data removed]"
          },
          "metadata": {}
        },
        {
          "output_type": "stream",
          "name": "stdout",
          "text": [
            "Prediction:  [1]\n",
            "Label:  1\n"
          ]
        },
        {
          "output_type": "display_data",
          "data": {
            "text/plain": [
              "<Figure size 640x480 with 1 Axes>"
            ],
            "image/png": "[encoded data removed]"
          },
          "metadata": {}
        },
        {
          "output_type": "stream",
          "name": "stdout",
          "text": [
            "Prediction:  [9]\n",
            "Label:  9\n"
          ]
        },
        {
          "output_type": "display_data",
          "data": {
            "text/plain": [
              "<Figure size 640x480 with 1 Axes>"
            ],
            "image/png": "[encoded data removed]"
          },
          "metadata": {}
        }
      ]
    },
    {
      "cell_type": "code",
      "source": [
        "# Initialize parameters and train\n",
        "alpha = 0.001\n",
        "iterations = 200\n",
        "beta1 = 0.9\n",
        "beta2 = 0.999\n",
        "epsilon = 1e-8\n",
        "\n",
        "W1, b1, W2, b2, W3, b3 = gradient_descent_with_GELU(X_train, Y_train, alpha, iterations, beta1, beta2, epsilon)\n",
        "\n",
        "# Evaluate on dev set\n",
        "dev_predictions = make_predictions_with_GELU(X_test, W1, b1, W2, b2, W3, b3)\n",
        "accuracy_GELU = get_accuracy(dev_predictions, Y_test)\n",
        "print(f\" Accuracy with GELU: {accuracy_GELU}\")\n",
        "\n"
      ],
      "metadata": {
        "colab": {
          "base_uri": "https://localhost:8080/"
        },
        "id": "mWTKntgKywAt",
        "outputId": "e63c4a79-45a0-4e7b-8893-eea1a7470b45"
      },
      "execution_count": null,
      "outputs": [
        {
          "output_type": "stream",
          "name": "stdout",
          "text": [
            "[3 0 4 ... 3 0 3] [[5 0 4 ... 5 6 8]]\n",
            "Iteration 10: Accuracy = 0.4642\n",
            "[3 0 4 ... 3 0 3] [[5 0 4 ... 5 6 8]]\n",
            "Iteration 20: Accuracy = 0.4581\n",
            "[3 0 4 ... 8 6 8] [[5 0 4 ... 5 6 8]]\n",
            "Iteration 30: Accuracy = 0.6383\n",
            "[3 0 9 ... 5 6 8] [[5 0 4 ... 5 6 8]]\n",
            "Iteration 40: Accuracy = 0.7043\n",
            "[3 0 9 ... 5 6 8] [[5 0 4 ... 5 6 8]]\n",
            "Iteration 50: Accuracy = 0.7610\n",
            "[3 0 9 ... 5 6 8] [[5 0 4 ... 5 6 8]]\n",
            "Iteration 60: Accuracy = 0.8056\n",
            "[3 0 9 ... 5 6 8] [[5 0 4 ... 5 6 8]]\n",
            "Iteration 70: Accuracy = 0.8401\n",
            "[3 0 9 ... 5 6 8] [[5 0 4 ... 5 6 8]]\n",
            "Iteration 80: Accuracy = 0.8673\n",
            "[3 0 9 ... 5 6 8] [[5 0 4 ... 5 6 8]]\n",
            "Iteration 90: Accuracy = 0.8847\n",
            "[3 0 4 ... 5 6 8] [[5 0 4 ... 5 6 8]]\n",
            "Iteration 100: Accuracy = 0.8961\n",
            "[3 0 4 ... 5 6 8] [[5 0 4 ... 5 6 8]]\n",
            "Iteration 110: Accuracy = 0.9042\n",
            "[3 0 4 ... 5 6 8] [[5 0 4 ... 5 6 8]]\n",
            "Iteration 120: Accuracy = 0.9106\n",
            "[3 0 4 ... 5 6 8] [[5 0 4 ... 5 6 8]]\n",
            "Iteration 130: Accuracy = 0.9161\n",
            "[3 0 4 ... 5 6 8] [[5 0 4 ... 5 6 8]]\n",
            "Iteration 140: Accuracy = 0.9216\n",
            "[3 0 4 ... 5 6 8] [[5 0 4 ... 5 6 8]]\n",
            "Iteration 150: Accuracy = 0.9257\n",
            "[3 0 4 ... 5 6 8] [[5 0 4 ... 5 6 8]]\n",
            "Iteration 160: Accuracy = 0.9292\n",
            "[3 0 4 ... 5 6 8] [[5 0 4 ... 5 6 8]]\n",
            "Iteration 170: Accuracy = 0.9320\n",
            "[3 0 4 ... 5 6 8] [[5 0 4 ... 5 6 8]]\n",
            "Iteration 180: Accuracy = 0.9349\n",
            "[3 0 4 ... 5 6 8] [[5 0 4 ... 5 6 8]]\n",
            "Iteration 190: Accuracy = 0.9382\n",
            "[3 0 4 ... 5 6 8] [[5 0 4 ... 5 6 8]]\n",
            "Iteration 200: Accuracy = 0.9414\n",
            "[7 2 1 ... 4 5 6] [[7 2 1 ... 4 5 6]]\n",
            " Accuracy with GELU: 0.9375\n"
          ]
        }
      ]
    },
    {
      "cell_type": "code",
      "source": [
        "def test_prediction_with_GELU(index, W1, b1, W2, b2, W3, b3):\n",
        "    current_image = X_train[:, index, None]\n",
        "    # Pass W3 and b3 to make_predictions\n",
        "    prediction = make_predictions_with_GELU(X_train[:, index, None], W1, b1, W2, b2, W3, b3)\n",
        "    # Reshape Y_train to be a 1D array or access it with Y_train[0, index] if it's 2D\n",
        "    label = Y_train[0, index] if Y_train.ndim == 2 else Y_train[index] # Access label assuming Y_train is 2D or 1D\n",
        "    print(\"Prediction: \", prediction)\n",
        "    print(\"Label: \", label)\n",
        "    current_image = current_image.reshape((28, 28)) * 255\n",
        "    plt.gray()\n",
        "    plt.imshow(current_image, interpolation='nearest')\n",
        "    plt.show()"
      ],
      "metadata": {
        "id": "ZhXX2QrGDKQC"
      },
      "execution_count": null,
      "outputs": []
    },
    {
      "cell_type": "code",
      "source": [
        "test_prediction_with_GELU(0, W1, b1, W2, b2, W3 , b3)\n",
        "test_prediction_with_GELU(5, W1, b1, W2, b2,W3 , b3)\n",
        "test_prediction_with_GELU(8, W1, b1, W2, b2,W3 , b3)\n",
        "test_prediction_with_GELU(4, W1, b1, W2, b2,W3 , b3)"
      ],
      "metadata": {
        "collapsed": true,
        "colab": {
          "base_uri": "https://localhost:8080/",
          "height": 1000
        },
        "id": "K_SppsNUDPYs",
        "outputId": "b5bca3f3-60c7-4b35-80bf-a14d1fea333c"
      },
      "execution_count": null,
      "outputs": [
        {
          "output_type": "stream",
          "name": "stdout",
          "text": [
            "Prediction:  [3]\n",
            "Label:  5\n"
          ]
        },
        {
          "output_type": "display_data",
          "data": {
            "text/plain": [
              "<Figure size 640x480 with 1 Axes>"
            ],
            "image/png": "[encoded data removed]"
          },
          "metadata": {}
        },
        {
          "output_type": "stream",
          "name": "stdout",
          "text": [
            "Prediction:  [2]\n",
            "Label:  2\n"
          ]
        },
        {
          "output_type": "display_data",
          "data": {
            "text/plain": [
              "<Figure size 640x480 with 1 Axes>"
            ],
            "image/png": "[encoded data removed]"
          },
          "metadata": {}
        },
        {
          "output_type": "stream",
          "name": "stdout",
          "text": [
            "Prediction:  [1]\n",
            "Label:  1\n"
          ]
        },
        {
          "output_type": "display_data",
          "data": {
            "text/plain": [
              "<Figure size 640x480 with 1 Axes>"
            ],
            "image/png": "[encoded data removed]"
          },
          "metadata": {}
        },
        {
          "output_type": "stream",
          "name": "stdout",
          "text": [
            "Prediction:  [9]\n",
            "Label:  9\n"
          ]
        },
        {
          "output_type": "display_data",
          "data": {
            "text/plain": [
              "<Figure size 640x480 with 1 Axes>"
            ],
            "image/png": "[encoded data removed]"
          },
          "metadata": {}
        }
      ]
    },
    {
      "cell_type": "code",
      "source": [
        "# Initialize parameters and train\n",
        "alpha = 0.001\n",
        "iterations = 200\n",
        "beta1 = 0.9\n",
        "beta2 = 0.999\n",
        "epsilon = 1e-8\n",
        "\n",
        "W1, b1, W2, b2, W3, b3 = gradient_descent(X_train, Y_train, alpha, iterations, beta1, beta2, epsilon)\n",
        "\n",
        "# Evaluate on dev set\n",
        "dev_predictions = make_predictions(X_test, W1, b1, W2, b2, W3, b3)\n",
        "accuracy = get_accuracy(dev_predictions, Y_test)\n",
        "print(f\" Accuracy with Leaky ReLU: {accuracy}\")\n",
        "\n"
      ],
      "metadata": {
        "colab": {
          "base_uri": "https://localhost:8080/"
        },
        "id": "X5fREZHbywtn",
        "outputId": "e500ab4c-d372-44cb-bafa-f666c9aa7be3"
      },
      "execution_count": null,
      "outputs": [
        {
          "output_type": "stream",
          "name": "stdout",
          "text": [
            "[3 0 7 ... 3 0 3] [[5 0 4 ... 5 6 8]]\n",
            "Iteration 10: Accuracy = 0.4879\n",
            "[3 0 7 ... 8 0 0] [[5 0 4 ... 5 6 8]]\n",
            "Iteration 20: Accuracy = 0.5549\n",
            "[3 0 9 ... 8 6 8] [[5 0 4 ... 5 6 8]]\n",
            "Iteration 30: Accuracy = 0.6442\n",
            "[3 0 4 ... 5 6 8] [[5 0 4 ... 5 6 8]]\n",
            "Iteration 40: Accuracy = 0.7300\n",
            "[3 0 9 ... 5 6 8] [[5 0 4 ... 5 6 8]]\n",
            "Iteration 50: Accuracy = 0.7895\n",
            "[3 0 9 ... 5 6 8] [[5 0 4 ... 5 6 8]]\n",
            "Iteration 60: Accuracy = 0.8320\n",
            "[3 0 9 ... 5 6 8] [[5 0 4 ... 5 6 8]]\n",
            "Iteration 70: Accuracy = 0.8623\n",
            "[3 0 9 ... 5 6 8] [[5 0 4 ... 5 6 8]]\n",
            "Iteration 80: Accuracy = 0.8805\n",
            "[3 0 4 ... 5 6 8] [[5 0 4 ... 5 6 8]]\n",
            "Iteration 90: Accuracy = 0.8924\n",
            "[3 0 4 ... 5 6 8] [[5 0 4 ... 5 6 8]]\n",
            "Iteration 100: Accuracy = 0.9000\n",
            "[3 0 4 ... 5 6 8] [[5 0 4 ... 5 6 8]]\n",
            "Iteration 110: Accuracy = 0.9056\n",
            "[3 0 4 ... 5 6 8] [[5 0 4 ... 5 6 8]]\n",
            "Iteration 120: Accuracy = 0.9115\n",
            "[3 0 4 ... 5 6 8] [[5 0 4 ... 5 6 8]]\n",
            "Iteration 130: Accuracy = 0.9156\n",
            "[3 0 4 ... 5 6 8] [[5 0 4 ... 5 6 8]]\n",
            "Iteration 140: Accuracy = 0.9195\n",
            "[3 0 4 ... 5 6 8] [[5 0 4 ... 5 6 8]]\n",
            "Iteration 150: Accuracy = 0.9230\n",
            "[3 0 4 ... 5 6 8] [[5 0 4 ... 5 6 8]]\n",
            "Iteration 160: Accuracy = 0.9262\n",
            "[3 0 4 ... 5 6 8] [[5 0 4 ... 5 6 8]]\n",
            "Iteration 170: Accuracy = 0.9294\n",
            "[3 0 4 ... 5 6 8] [[5 0 4 ... 5 6 8]]\n",
            "Iteration 180: Accuracy = 0.9326\n",
            "[5 0 4 ... 5 6 8] [[5 0 4 ... 5 6 8]]\n",
            "Iteration 190: Accuracy = 0.9357\n",
            "[5 0 4 ... 5 6 8] [[5 0 4 ... 5 6 8]]\n",
            "Iteration 200: Accuracy = 0.9389\n",
            "[7 2 1 ... 4 5 6] [[7 2 1 ... 4 5 6]]\n",
            " Accuracy with Leaky ReLU: 0.935\n"
          ]
        }
      ]
    },
    {
      "cell_type": "code",
      "source": [
        "\n",
        "def test_prediction(index, W1, b1, W2, b2, W3, b3):\n",
        "    current_image = X_train[:, index, None]\n",
        "    # Pass W3 and b3 to make_predictions\n",
        "    prediction = make_predictions(X_train[:, index, None], W1, b1, W2, b2, W3, b3)\n",
        "    # Reshape Y_train to be a 1D array or access it with Y_train[0, index] if it's 2D\n",
        "    label = Y_train[0, index] if Y_train.ndim == 2 else Y_train[index] # Access label assuming Y_train is 2D or 1D\n",
        "    print(\"Prediction: \", prediction)\n",
        "    print(\"Label: \", label)\n",
        "\n",
        "    current_image = current_image.reshape((28, 28)) * 255\n",
        "    plt.gray()\n",
        "    plt.imshow(current_image, interpolation='nearest')\n",
        "    plt.show()"
      ],
      "metadata": {
        "id": "eFaqOA_prshD"
      },
      "execution_count": null,
      "outputs": []
    },
    {
      "cell_type": "code",
      "execution_count": null,
      "metadata": {
        "id": "krMqDmScKsOV",
        "colab": {
          "base_uri": "https://localhost:8080/",
          "height": 1000
        },
        "outputId": "d0160ff6-1cb6-453c-c15f-eb1efcc025fc",
        "collapsed": true
      },
      "outputs": [
        {
          "output_type": "stream",
          "name": "stdout",
          "text": [
            "Prediction:  [5]\n",
            "Label:  5\n"
          ]
        },
        {
          "output_type": "display_data",
          "data": {
            "text/plain": [
              "<Figure size 640x480 with 1 Axes>"
            ],
            "image/png": "[encoded data removed]"
          },
          "metadata": {}
        },
        {
          "output_type": "stream",
          "name": "stdout",
          "text": [
            "Prediction:  [2]\n",
            "Label:  2\n"
          ]
        },
        {
          "output_type": "display_data",
          "data": {
            "text/plain": [
              "<Figure size 640x480 with 1 Axes>"
            ],
            "image/png": "[encoded data removed]"
          },
          "metadata": {}
        },
        {
          "output_type": "stream",
          "name": "stdout",
          "text": [
            "Prediction:  [1]\n",
            "Label:  1\n"
          ]
        },
        {
          "output_type": "display_data",
          "data": {
            "text/plain": [
              "<Figure size 640x480 with 1 Axes>"
            ],
            "image/png": "[encoded data removed]"
          },
          "metadata": {}
        },
        {
          "output_type": "stream",
          "name": "stdout",
          "text": [
            "Prediction:  [9]\n",
            "Label:  9\n"
          ]
        },
        {
          "output_type": "display_data",
          "data": {
            "text/plain": [
              "<Figure size 640x480 with 1 Axes>"
            ],
            "image/png": "[encoded data removed]"
          },
          "metadata": {}
        }
      ],
      "source": [
        "test_prediction(0, W1, b1, W2, b2, W3 , b3)\n",
        "test_prediction(5, W1, b1, W2, b2,W3 , b3)\n",
        "test_prediction(8, W1, b1, W2, b2,W3 , b3)\n",
        "test_prediction(4, W1, b1, W2, b2,W3 , b3)"
      ]
    },
    {
      "cell_type": "code",
      "source": [
        "print(\"\\n Activation Function Comparison:\")\n",
        "print(f\"GSF Test Accuracy: {accuracy_GSF:.4f}%\")\n",
        "print(f\"ExLog Test Accuracy: {accuracy_ExLog:.4f}%\")\n",
        "print(f\"GELU Test Accuracy: {accuracy_GELU:.4f}%\")\n",
        "print(f\"Leaky relu Test Accuracy: {accuracy:.4f}%\")"
      ],
      "metadata": {
        "colab": {
          "base_uri": "https://localhost:8080/"
        },
        "id": "yJN4PzWiDeEI",
        "outputId": "1e49fd1c-74ab-435e-9c16-0cd47dc75e6d"
      },
      "execution_count": null,
      "outputs": [
        {
          "output_type": "stream",
          "name": "stdout",
          "text": [
            "\n",
            " Activation Function Comparison:\n",
            "GSF Test Accuracy: 0.9515%\n",
            "ExLog Test Accuracy: 0.9257%\n",
            "GELU Test Accuracy: 0.9375%\n",
            "Leaky relu Test Accuracy: 0.9350%\n"
          ]
        }
      ]
    },
    {
      "cell_type": "code",
      "source": [
        "# prompt: export this model\n",
        "\n",
        "import pickle\n",
        "\n",
        "# Assuming W1, b1, W2, b2, W3, b3 are defined from your training\n",
        "\n",
        "model_params = {\n",
        "    'W1': W1,\n",
        "    'b1': b1,\n",
        "    'W2': W2,\n",
        "    'b2': b2,\n",
        "    'W3': W3,\n",
        "    'b3': b3\n",
        "}\n",
        "\n",
        "\n",
        "with open('trained_model.pkl', 'wb') as f:\n",
        "    pickle.dump(model_params, f)\n",
        "\n",
        "print(\"Model exported to trained_model.pkl\")"
      ],
      "metadata": {
        "id": "fD2E_stiTOnU",
        "colab": {
          "base_uri": "https://localhost:8080/"
        },
        "outputId": "45bc21d9-6b35-41dd-b326-a76a78d9c101"
      },
      "execution_count": null,
      "outputs": [
        {
          "output_type": "stream",
          "name": "stdout",
          "text": [
            "Model exported to trained_model.pkl\n"
          ]
        }
      ]
    }
  ],
  "metadata": {
    "colab": {
      "provenance": [],
      "include_colab_link": true
    },
    "kernelspec": {
      "display_name": "Python 3",
      "name": "python3"
    },
    "language_info": {
      "name": "python"
    }
  },
  "nbformat": 4,
  "nbformat_minor": 0
}