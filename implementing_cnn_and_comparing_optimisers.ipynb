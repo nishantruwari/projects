{
  "cells": [
    {
      "cell_type": "markdown",
      "metadata": {
        "id": "view-in-github",
        "colab_type": "text"
      },
      "source": [
        "<a href=\"https://colab.research.google.com/github/nishantruwari/projects/blob/main/implementing_cnn_and_comparing_optimisers.ipynb\" target=\"_parent\"><img src=\"https://colab.research.google.com/assets/colab-badge.svg\" alt=\"Open In Colab\"/></a>"
      ]
    },
    {
      "cell_type": "code",
      "execution_count": 2,
      "metadata": {
        "id": "I0fU9Nb-BlwD"
      },
      "outputs": [],
      "source": [
        "import torch\n",
        "import torch.nn as nn\n",
        "import torchvision\n",
        "import torchvision.transforms as transforms\n",
        "import math"
      ]
    },
    {
      "cell_type": "code",
      "execution_count": 3,
      "metadata": {
        "id": "49XSQErsCGr5"
      },
      "outputs": [],
      "source": [
        "# Step 2: Device configuration\n",
        "device = torch.device('cuda' if torch.cuda.is_available() else 'cpu')"
      ]
    },
    {
      "cell_type": "code",
      "execution_count": 4,
      "metadata": {
        "id": "mXaYqRuJCZMo"
      },
      "outputs": [],
      "source": [
        "# Step 3: CIFAR-10 dataset\n",
        "transform = transforms.Compose([\n",
        "    transforms.RandomHorizontalFlip(),\n",
        "    transforms.RandomCrop(32, padding=4),\n",
        "    transforms.ToTensor(),\n",
        "    transforms.Normalize((0.5, 0.5, 0.5), (0.5, 0.5, 0.5))\n",
        "])"
      ]
    },
    {
      "cell_type": "code",
      "execution_count": 6,
      "metadata": {
        "colab": {
          "base_uri": "https://localhost:8080/"
        },
        "id": "yd_YqIthCcWQ",
        "outputId": "f10eb2d3-596b-468c-ea95-ba8b67a02fab"
      },
      "outputs": [
        {
          "output_type": "stream",
          "name": "stdout",
          "text": [
            "Downloading https://www.cs.toronto.edu/~kriz/cifar-10-python.tar.gz to ./data/cifar-10-python.tar.gz\n"
          ]
        },
        {
          "output_type": "stream",
          "name": "stderr",
          "text": [
            "100%|██████████| 170M/170M [00:13<00:00, 12.9MB/s]\n"
          ]
        },
        {
          "output_type": "stream",
          "name": "stdout",
          "text": [
            "Extracting ./data/cifar-10-python.tar.gz to ./data\n",
            "Files already downloaded and verified\n"
          ]
        }
      ],
      "source": [
        "train_dataset = torchvision.datasets.CIFAR10(root='./data', train=True, transform=transform, download=True)\n",
        "test_dataset = torchvision.datasets.CIFAR10(root='./data', train=False, transform=transform, download=True)\n"
      ]
    },
    {
      "cell_type": "code",
      "execution_count": 7,
      "metadata": {
        "id": "8pVRyPFECffH"
      },
      "outputs": [],
      "source": [
        "train_loader = torch.utils.data.DataLoader(dataset=train_dataset, batch_size=100, shuffle=True)\n",
        "test_loader = torch.utils.data.DataLoader(dataset=test_dataset, batch_size=100, shuffle=False)\n"
      ]
    },
    {
      "cell_type": "code",
      "execution_count": 8,
      "metadata": {
        "id": "a90TAGS1CkI5"
      },
      "outputs": [],
      "source": [
        "# Step 4: Define CNN Model\n",
        "class CNN(nn.Module):\n",
        "    def __init__(self):\n",
        "        super(CNN, self).__init__()\n",
        "        self.conv1 = nn.Conv2d(3, 32, kernel_size=3, padding=1)\n",
        "        self.conv2 = nn.Conv2d(32, 64, kernel_size=3, padding=1)\n",
        "        self.pool = nn.MaxPool2d(kernel_size=2, stride=2)\n",
        "        self.fc1 = nn.Linear(64 * 16 * 16, 512)\n",
        "        self.fc2 = nn.Linear(512, 10)\n",
        "        self.relu = nn.ReLU()\n",
        "        self.dropout = nn.Dropout(0.5)\n",
        "\n",
        "    def forward(self, x):\n",
        "        x = self.relu(self.conv1(x))\n",
        "        x = self.pool(self.relu(self.conv2(x)))\n",
        "        x = x.view(x.size(0), -1)\n",
        "        x = self.relu(self.fc1(x))\n",
        "        x = self.dropout(x)\n",
        "        x = self.fc2(x)\n",
        "        return x\n"
      ]
    },
    {
      "cell_type": "code",
      "execution_count": 9,
      "metadata": {
        "id": "_ya3cVuKCo-E"
      },
      "outputs": [],
      "source": [
        "class AdamOptimizer:\n",
        "    def __init__(self, params, lr=0.001, betas=(0.9, 0.999), eps=1e-8):\n",
        "        self.params = list(params)\n",
        "        self.lr = lr\n",
        "        self.betas = betas\n",
        "        self.eps = eps\n",
        "        self.t = 0\n",
        "        self.m = [torch.zeros_like(p) for p in self.params]\n",
        "        self.v = [torch.zeros_like(p) for p in self.params]\n",
        "\n",
        "    def zero_grad(self):\n",
        "        \"\"\"Clear the gradients of all optimized parameters.\"\"\"\n",
        "        for param in self.params:\n",
        "            if param.grad is not None:\n",
        "                param.grad.detach_()\n",
        "                param.grad.zero_()\n",
        "\n",
        "    def step(self):\n",
        "        \"\"\"Perform a single optimization step.\"\"\"\n",
        "        self.t += 1\n",
        "        beta1, beta2 = self.betas\n",
        "        for i, param in enumerate(self.params):\n",
        "            if param.grad is None:\n",
        "                continue\n",
        "            grad = param.grad.data\n",
        "\n",
        "            # Update biased first moment estimate\n",
        "            self.m[i] = beta1 * self.m[i] + (1 - beta1) * grad\n",
        "\n",
        "            # Update biased second raw moment estimate\n",
        "            self.v[i] = beta2 * self.v[i] + (1 - beta2) * (grad ** 2)\n",
        "\n",
        "            # Bias-corrected estimates\n",
        "            m_hat = self.m[i] / (1 - beta1 ** self.t)\n",
        "            v_hat = self.v[i] / (1 - beta2 ** self.t)\n",
        "\n",
        "            # Update parameters\n",
        "            param.data -= self.lr * m_hat / (torch.sqrt(v_hat) + self.eps)\n"
      ]
    },
    {
      "cell_type": "code",
      "execution_count": 10,
      "metadata": {
        "id": "n1Q-ta7NDXXA"
      },
      "outputs": [],
      "source": [
        "class AdamWOptimizer(AdamOptimizer):\n",
        "    def __init__(self, params, lr=0.001, betas=(0.9, 0.999), eps=1e-8, weight_decay=1e-2):\n",
        "        super().__init__(params, lr, betas, eps)\n",
        "        self.weight_decay = weight_decay\n",
        "\n",
        "    def step(self):\n",
        "        \"\"\"Perform a single optimization step with weight decay.\"\"\"\n",
        "        self.t += 1\n",
        "        beta1, beta2 = self.betas\n",
        "        for i, param in enumerate(self.params):\n",
        "            if param.grad is None:\n",
        "                continue\n",
        "            grad = param.grad.data\n",
        "\n",
        "            # Apply weight decay\n",
        "            grad += self.weight_decay * param.data\n",
        "\n",
        "            # Update biased first moment estimate\n",
        "            self.m[i] = beta1 * self.m[i] + (1 - beta1) * grad\n",
        "\n",
        "            # Update biased second raw moment estimate\n",
        "            self.v[i] = beta2 * self.v[i] + (1 - beta2) * (grad ** 2)\n",
        "\n",
        "            # Bias-corrected estimates\n",
        "            m_hat = self.m[i] / (1 - beta1 ** self.t)\n",
        "            v_hat = self.v[i] / (1 - beta2 ** self.t)\n",
        "\n",
        "            # Update parameters\n",
        "            param.data -= self.lr * m_hat / (torch.sqrt(v_hat) + self.eps)\n",
        "\n",
        "\n",
        "class AdaBeliefOptimizer(AdamOptimizer):\n",
        "    def step(self):\n",
        "        \"\"\"Perform a single optimization step with AdaBelief modification.\"\"\"\n",
        "        self.t += 1\n",
        "        beta1, beta2 = self.betas\n",
        "        for i, param in enumerate(self.params):\n",
        "            if param.grad is None:\n",
        "                continue\n",
        "            grad = param.grad.data\n",
        "\n",
        "            # Update biased first moment estimate\n",
        "            self.m[i] = beta1 * self.m[i] + (1 - beta1) * grad\n",
        "\n",
        "            # Update biased second raw moment estimate with AdaBelief modification\n",
        "            self.v[i] = beta2 * self.v[i] + (1 - beta2) * ((grad - self.m[i]) ** 2)\n",
        "\n",
        "            # Bias-corrected estimates\n",
        "            m_hat = self.m[i] / (1 - beta1 ** self.t)\n",
        "            v_hat = self.v[i] / (1 - beta2 ** self.t)\n",
        "\n",
        "            # Update parameters\n",
        "            param.data -= self.lr * m_hat / (torch.sqrt(v_hat) + self.eps)\n"
      ]
    },
    {
      "cell_type": "code",
      "execution_count": 11,
      "metadata": {
        "id": "YTCUza3xCyMI"
      },
      "outputs": [],
      "source": [
        "# Step 6: Train and test functions\n",
        "def train_model(model, optimizer, criterion, train_loader, num_epochs):\n",
        "    model.train()\n",
        "    for epoch in range(num_epochs):\n",
        "        total_loss = 0\n",
        "        for images, labels in train_loader:\n",
        "            images, labels = images.to(device), labels.to(device)\n",
        "\n",
        "            # Forward pass\n",
        "            outputs = model(images)\n",
        "            loss = criterion(outputs, labels)\n",
        "\n",
        "            # Backward pass\n",
        "            optimizer.zero_grad()\n",
        "            loss.backward()\n",
        "            optimizer.step()\n",
        "\n",
        "            total_loss += loss.item()\n",
        "\n",
        "        print(f\"Epoch [{epoch+1}/{num_epochs}], Loss: {total_loss/len(train_loader):.4f}\")\n"
      ]
    },
    {
      "cell_type": "code",
      "execution_count": 12,
      "metadata": {
        "id": "I0WDZpnoC0jk"
      },
      "outputs": [],
      "source": [
        "def test_model(model, test_loader):\n",
        "    model.eval()\n",
        "    correct = 0\n",
        "    total = 0\n",
        "    with torch.no_grad():\n",
        "        for images, labels in test_loader:\n",
        "            images, labels = images.to(device), labels.to(device)\n",
        "            outputs = model(images)\n",
        "            _, predicted = torch.max(outputs.data, 1)\n",
        "            total += labels.size(0)\n",
        "            correct += (predicted == labels).sum().item()\n",
        "    return 100 * correct / total"
      ]
    },
    {
      "cell_type": "code",
      "execution_count": 13,
      "metadata": {
        "id": "1K1puAp4C21M"
      },
      "outputs": [],
      "source": [
        "# Step 7: Main program\n",
        "num_epochs = 10\n",
        "criterion = nn.CrossEntropyLoss()"
      ]
    },
    {
      "cell_type": "code",
      "execution_count": null,
      "metadata": {
        "colab": {
          "base_uri": "https://localhost:8080/"
        },
        "id": "zwHgYHC9C5TH",
        "outputId": "9109706a-7aa8-4ee0-e5bf-6a65810cfe9d"
      },
      "outputs": [
        {
          "name": "stdout",
          "output_type": "stream",
          "text": [
            "Training with Adam...\n",
            "Epoch [1/10], Loss: 1.6226\n",
            "Epoch [2/10], Loss: 1.2859\n",
            "Epoch [3/10], Loss: 1.1612\n",
            "Epoch [4/10], Loss: 1.0961\n",
            "Epoch [5/10], Loss: 1.0562\n",
            "Epoch [6/10], Loss: 1.0159\n",
            "Epoch [7/10], Loss: 0.9912\n",
            "Epoch [8/10], Loss: 0.9676\n",
            "Epoch [9/10], Loss: 0.9524\n",
            "Epoch [10/10], Loss: 0.9329\n",
            "Test Accuracy with Adam: 70.12%\n"
          ]
        }
      ],
      "source": [
        "# Training with Adam\n",
        "print(\"Training with Adam...\")\n",
        "model_adam = CNN().to(device)\n",
        "optimizer_adam = AdamOptimizer(model_adam.parameters(), lr=0.001)\n",
        "train_model(model_adam, optimizer_adam, criterion, train_loader, num_epochs)\n",
        "accuracy_adam = test_model(model_adam, test_loader)\n",
        "print(f\"Test Accuracy with Adam: {accuracy_adam:.2f}%\")"
      ]
    },
    {
      "cell_type": "code",
      "execution_count": null,
      "metadata": {
        "colab": {
          "background_save": true,
          "base_uri": "https://localhost:8080/"
        },
        "id": "0V9_ct8eDz84",
        "outputId": "88c12eb7-2084-4c0e-bb06-4566b57efff1"
      },
      "outputs": [
        {
          "name": "stdout",
          "output_type": "stream",
          "text": [
            "\n",
            "Training with AdaBelief...\n",
            "Epoch [1/10], Loss: 1.6160\n",
            "Epoch [2/10], Loss: 1.3174\n",
            "Epoch [3/10], Loss: 1.1722\n",
            "Epoch [4/10], Loss: 1.1104\n",
            "Epoch [5/10], Loss: 1.0488\n",
            "Epoch [6/10], Loss: 1.0202\n",
            "Epoch [7/10], Loss: 0.9810\n",
            "Epoch [8/10], Loss: 0.9552\n",
            "Epoch [9/10], Loss: 0.9369\n",
            "Epoch [10/10], Loss: 0.9198\n",
            "Test Accuracy with AdaBelief: 69.75%\n"
          ]
        }
      ],
      "source": [
        "# Training with AdaBelief\n",
        "print(\"\\nTraining with AdaBelief...\")\n",
        "model_adabelief = CNN().to(device)\n",
        "optimizer_adabelief = AdaBeliefOptimizer(model_adabelief.parameters(), lr=0.001)\n",
        "train_model(model_adabelief, optimizer_adabelief, criterion, train_loader, num_epochs)\n",
        "accuracy_adabelief = test_model(model_adabelief, test_loader)\n",
        "print(f\"Test Accuracy with AdaBelief: {accuracy_adabelief:.2f}%\")\n"
      ]
    },
    {
      "cell_type": "code",
      "execution_count": 14,
      "metadata": {
        "colab": {
          "base_uri": "https://localhost:8080/",
          "height": 245
        },
        "id": "qa2fZC3SD_4b",
        "outputId": "9c02ace5-32d0-4019-ba8a-e949fafeb7d2"
      },
      "outputs": [
        {
          "output_type": "stream",
          "name": "stdout",
          "text": [
            "\n",
            "Optimizer Comparison:\n"
          ]
        },
        {
          "output_type": "error",
          "ename": "NameError",
          "evalue": "name 'accuracy_adam' is not defined",
          "traceback": [
            "\u001b[0;31m---------------------------------------------------------------------------\u001b[0m",
            "\u001b[0;31mNameError\u001b[0m                                 Traceback (most recent call last)",
            "\u001b[0;32m<ipython-input-14-39eb8441a6cd>\u001b[0m in \u001b[0;36m<cell line: 3>\u001b[0;34m()\u001b[0m\n\u001b[1;32m      1\u001b[0m \u001b[0;31m# Step 8: Compare Results\u001b[0m\u001b[0;34m\u001b[0m\u001b[0;34m\u001b[0m\u001b[0m\n\u001b[1;32m      2\u001b[0m \u001b[0mprint\u001b[0m\u001b[0;34m(\u001b[0m\u001b[0;34m\"\\nOptimizer Comparison:\"\u001b[0m\u001b[0;34m)\u001b[0m\u001b[0;34m\u001b[0m\u001b[0;34m\u001b[0m\u001b[0m\n\u001b[0;32m----> 3\u001b[0;31m \u001b[0mprint\u001b[0m\u001b[0;34m(\u001b[0m\u001b[0;34mf\"Adam Test Accuracy: {accuracy_adam:.2f}%\"\u001b[0m\u001b[0;34m)\u001b[0m\u001b[0;34m\u001b[0m\u001b[0;34m\u001b[0m\u001b[0m\n\u001b[0m\u001b[1;32m      4\u001b[0m \u001b[0;31m#print(f\"AdamW Test Accuracy: {accuracy_adamw:.2f}%\")\u001b[0m\u001b[0;34m\u001b[0m\u001b[0;34m\u001b[0m\u001b[0m\n\u001b[1;32m      5\u001b[0m \u001b[0mprint\u001b[0m\u001b[0;34m(\u001b[0m\u001b[0;34mf\"AdaBelief Test Accuracy: {accuracy_adabelief:.2f}%\"\u001b[0m\u001b[0;34m)\u001b[0m\u001b[0;34m\u001b[0m\u001b[0;34m\u001b[0m\u001b[0m\n",
            "\u001b[0;31mNameError\u001b[0m: name 'accuracy_adam' is not defined"
          ]
        }
      ],
      "source": [
        "# Step 8: Compare Results\n",
        "print(\"\\nOptimizer Comparison:\")\n",
        "print(f\"Adam Test Accuracy: {accuracy_adam:.2f}%\")\n",
        "#print(f\"AdamW Test Accuracy: {accuracy_adamw:.2f}%\")\n",
        "print(f\"AdaBelief Test Accuracy: {accuracy_adabelief:.2f}%\")"
      ]
    },
    {
      "cell_type": "code",
      "source": [
        "\n"
      ],
      "metadata": {
        "id": "P5RkpQN4hhJJ"
      },
      "execution_count": null,
      "outputs": []
    }
  ],
  "metadata": {
    "colab": {
      "provenance": [],
      "include_colab_link": true
    },
    "kernelspec": {
      "display_name": "Python 3",
      "name": "python3"
    },
    "language_info": {
      "name": "python"
    }
  },
  "nbformat": 4,
  "nbformat_minor": 0
}